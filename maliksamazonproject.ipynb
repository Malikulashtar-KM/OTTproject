{
 "cells": [
  {
   "cell_type": "code",
   "execution_count": 1,
   "id": "8ebf9288",
   "metadata": {},
   "outputs": [],
   "source": [
    "import findspark"
   ]
  },
  {
   "cell_type": "code",
   "execution_count": 2,
   "id": "0bb23b04",
   "metadata": {},
   "outputs": [],
   "source": [
    "import pyspark"
   ]
  },
  {
   "cell_type": "code",
   "execution_count": 3,
   "id": "fa1f93bd",
   "metadata": {},
   "outputs": [],
   "source": [
    "findspark.init()"
   ]
  },
  {
   "cell_type": "code",
   "execution_count": 4,
   "id": "f67d89b7",
   "metadata": {},
   "outputs": [],
   "source": [
    "from pyspark.sql import SparkSession\n",
    "from pyspark import SparkContext"
   ]
  },
  {
   "cell_type": "code",
   "execution_count": 7,
   "id": "a1a431b2",
   "metadata": {},
   "outputs": [],
   "source": [
    "from pyspark.sql.functions import *\n",
    "from pyspark.sql.types import *"
   ]
  },
  {
   "cell_type": "code",
   "execution_count": 5,
   "id": "ce31a96e",
   "metadata": {},
   "outputs": [
    {
     "data": {
      "text/html": [
       "\n",
       "            <div>\n",
       "                <p><b>SparkSession - in-memory</b></p>\n",
       "                \n",
       "        <div>\n",
       "            <p><b>SparkContext</b></p>\n",
       "\n",
       "            <p><a href=\"http://DESKTOP-H97GETN:4040\">Spark UI</a></p>\n",
       "\n",
       "            <dl>\n",
       "              <dt>Version</dt>\n",
       "                <dd><code>v3.3.2</code></dd>\n",
       "              <dt>Master</dt>\n",
       "                <dd><code>local</code></dd>\n",
       "              <dt>AppName</dt>\n",
       "                <dd><code>project</code></dd>\n",
       "            </dl>\n",
       "        </div>\n",
       "        \n",
       "            </div>\n",
       "        "
      ],
      "text/plain": [
       "<pyspark.sql.session.SparkSession at 0x23816e57a60>"
      ]
     },
     "execution_count": 5,
     "metadata": {},
     "output_type": "execute_result"
    }
   ],
   "source": [
    "sc=SparkSession.builder.appName('project').master('local').getOrCreate()\n",
    "sc"
   ]
  },
  {
   "cell_type": "code",
   "execution_count": 8,
   "id": "2960d23f",
   "metadata": {},
   "outputs": [],
   "source": [
    "schema = StructType([\n",
    "    StructField('Movie_name',StringType(),True),\n",
    "    StructField('Language',StringType(),True),\n",
    "    StructField('Imdb_rating',FloatType(),True),\n",
    "    StructField('Running_time',StringType(),True),\n",
    "    StructField('Year_of_release',IntegerType(),True),\n",
    "    StructField('Maturity_rating',StringType(),True),\n",
    "    StructField('Plot',StringType(),True),\n",
    "   \n",
    "])"
   ]
  },
  {
   "cell_type": "code",
   "execution_count": 15,
   "id": "f41ab367",
   "metadata": {},
   "outputs": [],
   "source": [
    "amazon_df=sc.read.csv('amazon prime movies.csv',schema=schema)"
   ]
  },
  {
   "cell_type": "code",
   "execution_count": 17,
   "id": "9708a21b",
   "metadata": {},
   "outputs": [
    {
     "name": "stdout",
     "output_type": "stream",
     "text": [
      "+--------------------+--------+-----------+------------+---------------+---------------+--------------------+\n",
      "|          Movie_name|Language|Imdb_rating|Running_time|Year_of_release|Maturity_rating|                Plot|\n",
      "+--------------------+--------+-----------+------------+---------------+---------------+--------------------+\n",
      "|          John Rambo|   Tamil|        7.0|  1 h 26 min|           2008|            18+|In Thailand, John...|\n",
      "|        American Pie| English|        7.0|  1 h 35 min|           1999|            18+|\"You'll never loo...|\n",
      "|           Bombshell| English|        6.8|  1 h 48 min|           2019|            18+|The provocative r...|\n",
      "|          Love Birds|   Tamil|        5.1|  2 h 40 min|           1996|            All|After accidentall...|\n",
      "|               Hippi|  Telugu|        5.0|  2 h 20 min|           2019|            18+|Hippi is about th...|\n",
      "|Honey Bunny As Su...|   Tamil|       null|       49min|           2018|             7+|Flamingo a Hitech...|\n",
      "|               Ayyaa|   Tamil|        5.7|  2 h 39 min|           2005|            All|Ayyaa Is A Super ...|\n",
      "|       Mukhya Mantri| Bengali|       null|  1 h 57 min|           1996|             NR|'Mukhya Mantri' i...|\n",
      "|   Gandhi Fer Aa Gea| Punjabi|        4.9| 2 h 13 mins|           2020|            13+|Gandhi returns ho...|\n",
      "|      Premada Vayasu| Kannada|        6.0|  1 h 56 min|           1997|             NR|Premada Vayasu is...|\n",
      "|Tum Se Achcha Kau...|   Hindi|        4.5|  2 h 21 min|           2002|            All|The daughter of a...|\n",
      "|               Swamy| Kannada|        6.0|  2 h 34 min|           2005|            All|Swamy is a 2005 I...|\n",
      "|Ekkees Tareekh Sh...|   Hindi|        5.7|  1 h 33 min|           2018|            All|A 55-year-old man...|\n",
      "|Sealers: One Last...| English|        7.7|       56min|           2020|            13+|Norwegian seal hu...|\n",
      "|     Lonavala Bypass| Marathi|       null| 1 h 46 mins|           2009|            13+|Lonavala Bypass I...|\n",
      "|     Project Almanac| English|        6.4|  1 h 46 min|           2015|            13+|When five teens d...|\n",
      "|         Nanna Prema|  Telugu|       null|  2 h 23 min|           2019|            13+|A story about a f...|\n",
      "|       Ghost Stories| English|        6.4|  1 h 33 min|           2018|            18+|Skeptical profess...|\n",
      "|    Basthi Mey Saval|  Telugu|       null|  1 h 49 min|           2002|             NR|Basthi Mey Saval ...|\n",
      "|Jaani Dushman: Ek...|   Hindi|        2.8|  2 h 32 min|           2002|            13+|A shape-shifting ...|\n",
      "+--------------------+--------+-----------+------------+---------------+---------------+--------------------+\n",
      "only showing top 20 rows\n",
      "\n"
     ]
    }
   ],
   "source": [
    "amazon_df.show()"
   ]
  },
  {
   "cell_type": "code",
   "execution_count": 18,
   "id": "95f15088",
   "metadata": {},
   "outputs": [
    {
     "data": {
      "text/plain": [
       "8129"
      ]
     },
     "execution_count": 18,
     "metadata": {},
     "output_type": "execute_result"
    }
   ],
   "source": [
    "amazon_df.count()"
   ]
  },
  {
   "cell_type": "code",
   "execution_count": 22,
   "id": "b50b541b",
   "metadata": {},
   "outputs": [],
   "source": [
    "amazon_df=amazon_df.drop_duplicates()"
   ]
  },
  {
   "cell_type": "code",
   "execution_count": 23,
   "id": "2ddf86ed",
   "metadata": {},
   "outputs": [
    {
     "data": {
      "text/plain": [
       "8126"
      ]
     },
     "execution_count": 23,
     "metadata": {},
     "output_type": "execute_result"
    }
   ],
   "source": [
    "amazon_df.count()"
   ]
  },
  {
   "cell_type": "code",
   "execution_count": 25,
   "id": "df13f0a0",
   "metadata": {},
   "outputs": [],
   "source": [
    "amazon_df=amazon_df.drop('all')"
   ]
  },
  {
   "cell_type": "code",
   "execution_count": 26,
   "id": "5d1f68a9",
   "metadata": {},
   "outputs": [
    {
     "data": {
      "text/plain": [
       "8126"
      ]
     },
     "execution_count": 26,
     "metadata": {},
     "output_type": "execute_result"
    }
   ],
   "source": [
    "amazon_df.count()"
   ]
  },
  {
   "cell_type": "markdown",
   "id": "26640f68",
   "metadata": {},
   "source": [
    "## 1.  Review the movie names and languages names in the year of 2019."
   ]
  },
  {
   "cell_type": "code",
   "execution_count": 27,
   "id": "caa0cf3a",
   "metadata": {},
   "outputs": [],
   "source": [
    "result1=amazon_df.filter(col('Year_of_release')==2019).select('Movie_name','Language')"
   ]
  },
  {
   "cell_type": "code",
   "execution_count": 28,
   "id": "ba38e471",
   "metadata": {},
   "outputs": [
    {
     "name": "stdout",
     "output_type": "stream",
     "text": [
      "+-------------------------------------+---------+\n",
      "|Movie_name                           |Language |\n",
      "+-------------------------------------+---------+\n",
      "|Unmadiyude Maranam | ഉന്മാദിയുടെ മരണം|English  |\n",
      "|Majili                               |Telugu   |\n",
      "|Carl's Car Wash 2                    |English  |\n",
      "|Kathanam                             |Tamil    |\n",
      "|The Bumble Nums - Season 3           |English  |\n",
      "|Bakrid                               |Tamil    |\n",
      "|Saaho (Telugu)                       |Telugu   |\n",
      "|Mighty Raju - Chutti Ho Gayi         |Hindi    |\n",
      "|Kettiyolaanu Ente Malakha            |Malayalam|\n",
      "|Captive State                        |English  |\n",
      "|Bharaate                             |Kannada  |\n",
      "|Gone Kesh                            |Hindi    |\n",
      "|Family 420 Once Again                |Punjabi  |\n",
      "|Viswasam                             |Tamil    |\n",
      "|The Bumble Nums 2 - Super Simple     |English  |\n",
      "|Nanna Prakara                        |Kannada  |\n",
      "|Motherless Brooklyn                  |English  |\n",
      "|47 Dhansukh Bhawan                   |Gujarati |\n",
      "|Software Sudheer                     |Telugu   |\n",
      "|Raatchasi                            |Tamil    |\n",
      "+-------------------------------------+---------+\n",
      "only showing top 20 rows\n",
      "\n"
     ]
    }
   ],
   "source": [
    "result1.show(truncate=False)"
   ]
  },
  {
   "cell_type": "code",
   "execution_count": null,
   "id": "e2e2ce4e",
   "metadata": {},
   "outputs": [],
   "source": []
  },
  {
   "cell_type": "code",
   "execution_count": null,
   "id": "ba0c4e5f",
   "metadata": {},
   "outputs": [],
   "source": []
  },
  {
   "cell_type": "markdown",
   "id": "bc9fc2b7",
   "metadata": {},
   "source": [
    "## 2.Which are the languages, movies highly watched by people of all ages? And in this scenrio, give the movie names of that language\n"
   ]
  },
  {
   "cell_type": "code",
   "execution_count": 29,
   "id": "a7a375a8",
   "metadata": {},
   "outputs": [],
   "source": [
    "all_filtered=amazon_df.filter(col('Maturity_rating')=='All')"
   ]
  },
  {
   "cell_type": "code",
   "execution_count": 31,
   "id": "b9e8bb07",
   "metadata": {},
   "outputs": [
    {
     "name": "stdout",
     "output_type": "stream",
     "text": [
      "+--------------------+---------+-----------+------------+---------------+---------------+--------------------+\n",
      "|          Movie_name| Language|Imdb_rating|Running_time|Year_of_release|Maturity_rating|                Plot|\n",
      "+--------------------+---------+-----------+------------+---------------+---------------+--------------------+\n",
      "|           Dahavi Fa|  Marathi|        7.8| 2 h 23 mins|           2002|            All|Fed up with gradi...|\n",
      "|    Top Cat (Telugu)|   Telugu|        4.6|  1 h 26 min|           2012|            All|Top Cat Is An Awa...|\n",
      "|Dharmam Thalai Ka...|    Tamil|        7.3|   2 h 5 min|           1963|            All|Masked killers su...|\n",
      "| Kshanbhar Vishranti|  Marathi|        6.3| 2 h 23 mins|           2010|            All|It is the story o...|\n",
      "|          Ulladakkam|Malayalam|        7.2|          2h|           1991|            All|Doctor Sunny, a p...|\n",
      "|       Dil Ka Rishta|    Hindi|        4.7|  2 h 23 min|           2003|            All|Jai unintentional...|\n",
      "|   Carl's Car Wash 2|  English|        5.9|  1 h 24 min|           2019|            All|Join Carl, some n...|\n",
      "|The Bumble Nums -...|  English|       null|       46min|           2019|            All|All new Bumble Nu...|\n",
      "|           Tirupathi|    Tamil|        3.3|  2 h 33 min|           2006|            All|A man tries to ta...|\n",
      "|          Sindhooram|   Telugu|        7.4|  2 h 37 min|           1997|            All|Sindhooram, a Nat...|\n",
      "|               Ayyaa|    Tamil|        5.7|  2 h 39 min|           2005|            All|Ayyaa Is A Super ...|\n",
      "|              Bakrid|    Tamil|        7.3|  1 h 58 min|           2019|            All|Rathinam, a farme...|\n",
      "|Mighty Raju - Chu...|    Hindi|       null|   1 h 4 min|           2019|            All|When the kids fro...|\n",
      "| Kasethan Kadavulada|    Tamil|        7.1|  2 h 22 min|           1972|            All|Manorama, second ...|\n",
      "|Kettiyolaanu Ente...|Malayalam|        7.6|  2 h 13 min|           2019|            All|Sleevachan is a f...|\n",
      "|  Yen Peyar Anandhan|    Tamil|        7.1|  1 h 35 min|           2020|            All|A short-filmmaker...|\n",
      "|     Chinna Vadhiyar|    Tamil|        5.8|  2 h 15 min|           1995|            All|A professor devel...|\n",
      "|            Rupantar|  Bengali|       null|          2h|           2018|            All|Debangi, dreams o...|\n",
      "|             Mazdoor|    Hindi|        6.6|  2 h 43 min|           1983|            All|Dinanath Saxena s...|\n",
      "|          Premalayam|   Telugu|       null|   3 h 4 min|           1994|            All|Premalayam is Tel...|\n",
      "+--------------------+---------+-----------+------------+---------------+---------------+--------------------+\n",
      "only showing top 20 rows\n",
      "\n"
     ]
    }
   ],
   "source": [
    "all_filtered.show()"
   ]
  },
  {
   "cell_type": "code",
   "execution_count": 36,
   "id": "4def3a2d",
   "metadata": {},
   "outputs": [],
   "source": [
    "max_rating=all_filtered.groupBy(col('Language')).agg(count('Maturity_rating').alias('count')).orderBy(col('count').desc())"
   ]
  },
  {
   "cell_type": "code",
   "execution_count": 38,
   "id": "9fcd5f2c",
   "metadata": {},
   "outputs": [
    {
     "name": "stdout",
     "output_type": "stream",
     "text": [
      "+---------+-----+\n",
      "| Language|count|\n",
      "+---------+-----+\n",
      "|    Hindi|  615|\n",
      "|    Tamil|  225|\n",
      "|Malayalam|  198|\n",
      "|  Marathi|  193|\n",
      "|   Telugu|  186|\n",
      "|  Bengali|  125|\n",
      "|  English|   94|\n",
      "| Gujarati|   57|\n",
      "|  Punjabi|   44|\n",
      "|  Kannada|   24|\n",
      "+---------+-----+\n",
      "\n"
     ]
    }
   ],
   "source": [
    "max_rating.show()"
   ]
  },
  {
   "cell_type": "code",
   "execution_count": 41,
   "id": "81a9ee26",
   "metadata": {},
   "outputs": [],
   "source": [
    "max_rating1=max_rating.head()[0]"
   ]
  },
  {
   "cell_type": "code",
   "execution_count": 43,
   "id": "91e3bffe",
   "metadata": {},
   "outputs": [
    {
     "name": "stdout",
     "output_type": "stream",
     "text": [
      "+--------------------+--------+-----------+------------+---------------+---------------+--------------------+\n",
      "|          Movie_name|Language|Imdb_rating|Running_time|Year_of_release|Maturity_rating|                Plot|\n",
      "+--------------------+--------+-----------+------------+---------------+---------------+--------------------+\n",
      "|             Pushpak|   Hindi|        8.7|  1 h 54 min|           1987|            All|An unemployed you...|\n",
      "|            Gol Maal|   Hindi|        8.6|  2 h 17 min|           1979|            All|Ramprasad works f...|\n",
      "|             Baarish|   Hindi|        8.6|  1 h 50 min|           null|            All|Baarish Is A Crim...|\n",
      "|              Pyaasa|   Hindi|        8.5|  2 h 23 min|           null|            All|Struggling Poet V...|\n",
      "|             Samadhi|   Hindi|        8.5|  2 h 18 min|           1972|            All|Lakhan Singh give...|\n",
      "|  Jaane Bhi Do Yaaro|   Hindi|        8.4|  2 h 11 min|           1983|            All|Two photographers...|\n",
      "|Petrichor Chapter...|   Hindi|        8.4|       20min|           2016|            All|A collaterally ov...|\n",
      "|              Masoom|   Hindi|        8.4|  2 h 17 min|           1983|            All|Masoom is the sto...|\n",
      "|               Anand|   Hindi|        8.4|  1 h 56 min|           1970|            All|Anand, a terminal...|\n",
      "|               Dosti|   Hindi|        8.4|  2 h 43 min|           null|            All|Dosti is the stor...|\n",
      "|      Chhoti Si Baat|   Hindi|        8.3|  1 h 55 min|           1976|            All|A timid suitor se...|\n",
      "|      Chhoti Si Baat|   Hindi|        8.3|  1 h 53 min|           1975|            All|A mild-mannered a...|\n",
      "|Sahib Bibi Aur Gh...|   Hindi|        8.3|  2 h 33 min|           null|            All|Sahib Bibi Aur Gh...|\n",
      "|       Chupke Chupke|   Hindi|        8.3|   2 h 9 min|           1975|            All|Sulekha is in awe...|\n",
      "|              Angoor|   Hindi|        8.3|  2 h 16 min|           1982|            All|Adapted from Shak...|\n",
      "|     Andaz Apna Apna|   Hindi|        8.2|  2 h 33 min|           1994|            All|Andaz Apna Apna I...|\n",
      "|              Sholay|   Hindi|        8.2|  3 h 15 min|           1975|            All|One of the most i...|\n",
      "|           Amar Prem|   Hindi|        8.2|  2 h 25 min|           1972|            All|The movie is abou...|\n",
      "|       Chak De India|   Hindi|        8.2|  2 h 28 min|           2007|            All|\"\"\"Kabir Khan (Sh...|\n",
      "|             Maqbool|   Hindi|        8.1|          2h|           2004|            All|In Mumbai's crimi...|\n",
      "+--------------------+--------+-----------+------------+---------------+---------------+--------------------+\n",
      "only showing top 20 rows\n",
      "\n"
     ]
    }
   ],
   "source": [
    "all_filtered.filter(col('Language')==max_rating1,).orderBy(col('Imdb_rating').desc()).show()"
   ]
  },
  {
   "cell_type": "code",
   "execution_count": null,
   "id": "72cb14ef",
   "metadata": {},
   "outputs": [],
   "source": []
  },
  {
   "cell_type": "code",
   "execution_count": null,
   "id": "a8d812e4",
   "metadata": {},
   "outputs": [],
   "source": []
  },
  {
   "cell_type": "markdown",
   "id": "c375df14",
   "metadata": {},
   "source": [
    "## 3.Which age group (maturity rating) is watching hindi movies? also, the movie titles."
   ]
  },
  {
   "cell_type": "code",
   "execution_count": 44,
   "id": "83966597",
   "metadata": {},
   "outputs": [],
   "source": [
    "age_group=amazon_df.filter(col('Language')=='Hindi').groupBy(col('Maturity_rating')).agg(count('Maturity_rating').alias('count')).orderBy(col('count').desc())"
   ]
  },
  {
   "cell_type": "code",
   "execution_count": 51,
   "id": "fd84d0a5",
   "metadata": {},
   "outputs": [
    {
     "name": "stdout",
     "output_type": "stream",
     "text": [
      "+---------------+-----+\n",
      "|Maturity_rating|count|\n",
      "+---------------+-----+\n",
      "|            All|  615|\n",
      "|             NR|  499|\n",
      "|            13+|  491|\n",
      "|            18+|  258|\n",
      "|            16+|   62|\n",
      "|             7+|   57|\n",
      "+---------------+-----+\n",
      "\n"
     ]
    }
   ],
   "source": [
    "age_group.show()"
   ]
  },
  {
   "cell_type": "code",
   "execution_count": 52,
   "id": "6824e130",
   "metadata": {},
   "outputs": [],
   "source": [
    "all_group_hindi=age_group.head()[0]"
   ]
  },
  {
   "cell_type": "code",
   "execution_count": 53,
   "id": "d4eb105c",
   "metadata": {},
   "outputs": [
    {
     "data": {
      "text/plain": [
       "'All'"
      ]
     },
     "execution_count": 53,
     "metadata": {},
     "output_type": "execute_result"
    }
   ],
   "source": [
    "all_group_hindi"
   ]
  },
  {
   "cell_type": "code",
   "execution_count": 85,
   "id": "dd886879",
   "metadata": {},
   "outputs": [],
   "source": [
    "result3=amazon_df.filter(col('Language')=='Hindi').filter(col('Maturity_rating')==all_group_hindi).orderBy(col('Imdb_rating').desc())"
   ]
  },
  {
   "cell_type": "code",
   "execution_count": 86,
   "id": "3776f2c7",
   "metadata": {},
   "outputs": [
    {
     "name": "stdout",
     "output_type": "stream",
     "text": [
      "+--------------------+--------+-----------+------------+---------------+---------------+--------------------+\n",
      "|          Movie_name|Language|Imdb_rating|Running_time|Year_of_release|Maturity_rating|                Plot|\n",
      "+--------------------+--------+-----------+------------+---------------+---------------+--------------------+\n",
      "|             Pushpak|   Hindi|        8.7|  1 h 54 min|           1987|            All|An unemployed you...|\n",
      "|            Gol Maal|   Hindi|        8.6|  2 h 17 min|           1979|            All|Ramprasad works f...|\n",
      "|             Baarish|   Hindi|        8.6|  1 h 50 min|           null|            All|Baarish Is A Crim...|\n",
      "|              Pyaasa|   Hindi|        8.5|  2 h 23 min|           null|            All|Struggling Poet V...|\n",
      "|             Samadhi|   Hindi|        8.5|  2 h 18 min|           1972|            All|Lakhan Singh give...|\n",
      "|  Jaane Bhi Do Yaaro|   Hindi|        8.4|  2 h 11 min|           1983|            All|Two photographers...|\n",
      "|Petrichor Chapter...|   Hindi|        8.4|       20min|           2016|            All|A collaterally ov...|\n",
      "|              Masoom|   Hindi|        8.4|  2 h 17 min|           1983|            All|Masoom is the sto...|\n",
      "|               Anand|   Hindi|        8.4|  1 h 56 min|           1970|            All|Anand, a terminal...|\n",
      "|               Dosti|   Hindi|        8.4|  2 h 43 min|           null|            All|Dosti is the stor...|\n",
      "|      Chhoti Si Baat|   Hindi|        8.3|  1 h 55 min|           1976|            All|A timid suitor se...|\n",
      "|      Chhoti Si Baat|   Hindi|        8.3|  1 h 53 min|           1975|            All|A mild-mannered a...|\n",
      "|Sahib Bibi Aur Gh...|   Hindi|        8.3|  2 h 33 min|           null|            All|Sahib Bibi Aur Gh...|\n",
      "|       Chupke Chupke|   Hindi|        8.3|   2 h 9 min|           1975|            All|Sulekha is in awe...|\n",
      "|              Angoor|   Hindi|        8.3|  2 h 16 min|           1982|            All|Adapted from Shak...|\n",
      "|     Andaz Apna Apna|   Hindi|        8.2|  2 h 33 min|           1994|            All|Andaz Apna Apna I...|\n",
      "|              Sholay|   Hindi|        8.2|  3 h 15 min|           1975|            All|One of the most i...|\n",
      "|           Amar Prem|   Hindi|        8.2|  2 h 25 min|           1972|            All|The movie is abou...|\n",
      "|       Chak De India|   Hindi|        8.2|  2 h 28 min|           2007|            All|\"\"\"Kabir Khan (Sh...|\n",
      "|             Maqbool|   Hindi|        8.1|          2h|           2004|            All|In Mumbai's crimi...|\n",
      "+--------------------+--------+-----------+------------+---------------+---------------+--------------------+\n",
      "only showing top 20 rows\n",
      "\n"
     ]
    }
   ],
   "source": [
    "result3.show()"
   ]
  },
  {
   "cell_type": "code",
   "execution_count": null,
   "id": "64612e67",
   "metadata": {},
   "outputs": [],
   "source": []
  },
  {
   "cell_type": "code",
   "execution_count": null,
   "id": "26d514f9",
   "metadata": {},
   "outputs": [],
   "source": []
  },
  {
   "cell_type": "markdown",
   "id": "1321f444",
   "metadata": {},
   "source": [
    "## 4.Which movie has the highest running duration and in which year? "
   ]
  },
  {
   "cell_type": "code",
   "execution_count": 71,
   "id": "61525bd6",
   "metadata": {},
   "outputs": [],
   "source": [
    "timehr_df=amazon_df.withColumn('hour', when(regexp_extract(col('Running_time'),r'(\\d+) h',1)!='',\\\n",
    "                                            regexp_extract(col('Running_time'),r'(\\d+) h', 1)).\\\n",
    "                               when(regexp_extract(col('Running_time'),r'(\\d+)h',1)!='',\\\n",
    "                                    regexp_extract(col('Running_time'),r'(\\d+)h',1)).otherwise(0).cast('int'))\\\n",
    "    .withColumn('min', when(regexp_extract(col('Running_time'),r'(\\d+) min',1)!='',\\\n",
    "                                            regexp_extract(col('Running_time'),r'(\\d+) min', 1)).\\\n",
    "                               when(regexp_extract(col('Running_time'),r'(\\d+)min',1)!='',\\\n",
    "                                    regexp_extract(col('Running_time'),r'(\\d+)min',1)).otherwise(0).cast('int'))"
   ]
  },
  {
   "cell_type": "code",
   "execution_count": 73,
   "id": "15ed32e3",
   "metadata": {},
   "outputs": [],
   "source": [
    "timehr_min=timehr_df.withColumn('total_time',col('hour')*60+col('min'))"
   ]
  },
  {
   "cell_type": "code",
   "execution_count": 74,
   "id": "b8f36cc3",
   "metadata": {},
   "outputs": [
    {
     "name": "stdout",
     "output_type": "stream",
     "text": [
      "+--------------------+---------+-----------+------------+---------------+---------------+--------------------+----+---+----------+\n",
      "|          Movie_name| Language|Imdb_rating|Running_time|Year_of_release|Maturity_rating|                Plot|hour|min|total_time|\n",
      "+--------------------+---------+-----------+------------+---------------+---------------+--------------------+----+---+----------+\n",
      "|          Noor Jahan|  Bengali|        5.3|  2 h 22 min|           2018|            13+|A Bengali romanti...|   2| 22|       142|\n",
      "|          Rathaavara|  Kannada|        6.5|  2 h 11 min|           2015|            13+|Manikantha (RaviS...|   2| 11|       131|\n",
      "|       Suicide Squad|  English|        6.0|   2 h 2 min|           2016|            13+|A secret governme...|   2|  2|       122|\n",
      "|           Dahavi Fa|  Marathi|        7.8| 2 h 23 mins|           2002|            All|Fed up with gradi...|   2| 23|       143|\n",
      "|         Air Hostess|Malayalam|        5.2|  2 h 21 min|           1980|             NR|Air Hostess is a ...|   2| 21|       141|\n",
      "|    Top Cat (Telugu)|   Telugu|        4.6|  1 h 26 min|           2012|            All|Top Cat Is An Awa...|   1| 26|        86|\n",
      "| Penguin (Malayalam)|Malayalam|        4.6|  2 h 12 min|           2020|            18+|Rhythm, leading a...|   2| 12|       132|\n",
      "|          Ek Ajnabee|    Hindi|        5.2|  2 h 17 min|           2005|            13+|Suryaveer, an ex-...|   2| 17|       137|\n",
      "|Dharmam Thalai Ka...|    Tamil|        7.3|   2 h 5 min|           1963|            All|Masked killers su...|   2|  5|       125|\n",
      "|Honey & Bunny in ...|    Hindi|       null|       51min|           2018|             7+|The Unbeatable Ku...|   0| 51|        51|\n",
      "|Terminator Salvation|  English|        6.5|  1 h 54 min|           2009|            13+|Set in post-apoca...|   1| 54|       114|\n",
      "|   Mahapith Tarapith|  Bengali|       null|  1 h 56 min|           1989|             NR|Sameer Roy was no...|   1| 56|       116|\n",
      "|Apollonia - Tel A...|  English|       null|       26min|           2020|            13+|Being first under...|   0| 26|        26|\n",
      "|Sundari Nee Vayas...|   Telugu|       null|       58min|           1976|             NR|Sundari Nee Vayas...|   0| 58|        58|\n",
      "|     Main Awara Hoon|    Hindi|        5.2|  2 h 34 min|           1983|            13+|Main Awara Hoon i...|   2| 34|       154|\n",
      "|       Happy Hunting|  English|        5.1|  1 h 30 min|           2017|            18+|An alcoholic drif...|   1| 30|        90|\n",
      "| Kshanbhar Vishranti|  Marathi|        6.3| 2 h 23 mins|           2010|            All|It is the story o...|   2| 23|       143|\n",
      "|         Faraar-1965|    Hindi|       null|  2 h 17 min|           null|             NR|Farrar is a 1965 ...|   2| 17|       137|\n",
      "|          Ulladakkam|Malayalam|        7.2|          2h|           1991|            All|Doctor Sunny, a p...|   2|  0|       120|\n",
      "|       Runner Runner|  English|        5.6|  1 h 31 min|           2013|            18+|A college student...|   1| 31|        91|\n",
      "+--------------------+---------+-----------+------------+---------------+---------------+--------------------+----+---+----------+\n",
      "only showing top 20 rows\n",
      "\n"
     ]
    }
   ],
   "source": [
    "timehr_min.show()"
   ]
  },
  {
   "cell_type": "code",
   "execution_count": 76,
   "id": "a992e6ec",
   "metadata": {},
   "outputs": [],
   "source": [
    "max_duration=timehr_min.select(max('total_time')).head()[0]"
   ]
  },
  {
   "cell_type": "code",
   "execution_count": 77,
   "id": "93cf1a18",
   "metadata": {},
   "outputs": [
    {
     "data": {
      "text/plain": [
       "255"
      ]
     },
     "execution_count": 77,
     "metadata": {},
     "output_type": "execute_result"
    }
   ],
   "source": [
    "max_duration"
   ]
  },
  {
   "cell_type": "code",
   "execution_count": 83,
   "id": "03d5bb6c",
   "metadata": {},
   "outputs": [],
   "source": [
    "result4=timehr_min.filter(col('total_time')==max_duration)"
   ]
  },
  {
   "cell_type": "code",
   "execution_count": 84,
   "id": "5845fb95",
   "metadata": {},
   "outputs": [
    {
     "name": "stdout",
     "output_type": "stream",
     "text": [
      "+--------------------+--------+-----------+------------+---------------+---------------+--------------------+----+---+----------+\n",
      "|          Movie_name|Language|Imdb_rating|Running_time|Year_of_release|Maturity_rating|                Plot|hour|min|total_time|\n",
      "+--------------------+--------+-----------+------------+---------------+---------------+--------------------+----+---+----------+\n",
      "|’Rameau’s Nephew’...| English|       null|  4 h 15 min|           1974|             NR|Consisting of 25 ...|   4| 15|       255|\n",
      "+--------------------+--------+-----------+------------+---------------+---------------+--------------------+----+---+----------+\n",
      "\n"
     ]
    }
   ],
   "source": [
    "result4.show()"
   ]
  },
  {
   "cell_type": "code",
   "execution_count": null,
   "id": "f40cd6a4",
   "metadata": {},
   "outputs": [],
   "source": []
  },
  {
   "cell_type": "markdown",
   "id": "1ca30c0c",
   "metadata": {},
   "source": [
    "## 5. And review the total number of movie ratings by language wise, and what are the movies that are high maturity rating?"
   ]
  },
  {
   "cell_type": "code",
   "execution_count": 81,
   "id": "5ad8ff59",
   "metadata": {},
   "outputs": [],
   "source": [
    "result5=amazon_df.groupBy('Language','Imdb_rating').agg(count('Imdb_rating').alias('ratings_count')).orderBy(col('ratings_count').desc())"
   ]
  },
  {
   "cell_type": "code",
   "execution_count": 82,
   "id": "1d2707a4",
   "metadata": {},
   "outputs": [
    {
     "name": "stdout",
     "output_type": "stream",
     "text": [
      "+--------+-----------+-------------+\n",
      "|Language|Imdb_rating|ratings_count|\n",
      "+--------+-----------+-------------+\n",
      "| English|        6.5|           65|\n",
      "|   Hindi|        6.5|           60|\n",
      "| English|        6.2|           59|\n",
      "|   Hindi|        7.2|           57|\n",
      "|   Hindi|        6.2|           57|\n",
      "|   Hindi|        7.1|           56|\n",
      "|   Hindi|        7.0|           56|\n",
      "|   Hindi|        6.7|           55|\n",
      "|   Hindi|        6.9|           54|\n",
      "|   Hindi|        6.4|           54|\n",
      "|   Hindi|        6.6|           54|\n",
      "| English|        7.0|           53|\n",
      "|   Hindi|        6.3|           53|\n",
      "|   Hindi|        6.0|           52|\n",
      "|   Hindi|        6.8|           50|\n",
      "| English|        6.4|           50|\n",
      "| English|        6.6|           49|\n",
      "| English|        7.3|           46|\n",
      "| English|        6.1|           46|\n",
      "| English|        6.3|           46|\n",
      "+--------+-----------+-------------+\n",
      "only showing top 20 rows\n",
      "\n"
     ]
    }
   ],
   "source": [
    "result5.show()"
   ]
  },
  {
   "cell_type": "code",
   "execution_count": null,
   "id": "0e427e86",
   "metadata": {},
   "outputs": [],
   "source": []
  }
 ],
 "metadata": {
  "kernelspec": {
   "display_name": "Python 3 (ipykernel)",
   "language": "python",
   "name": "python3"
  },
  "language_info": {
   "codemirror_mode": {
    "name": "ipython",
    "version": 3
   },
   "file_extension": ".py",
   "mimetype": "text/x-python",
   "name": "python",
   "nbconvert_exporter": "python",
   "pygments_lexer": "ipython3",
   "version": "3.10.11"
  }
 },
 "nbformat": 4,
 "nbformat_minor": 5
}
